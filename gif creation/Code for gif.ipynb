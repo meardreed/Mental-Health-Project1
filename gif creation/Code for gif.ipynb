{
 "cells": [
  {
   "cell_type": "code",
   "execution_count": null,
   "metadata": {},
   "outputs": [],
   "source": [
    "import pandas as pd\n",
    "import matplotlib.pyplot as plt  \n",
    "\n",
    "df = pd.read_csv(\"#select one of the file\")\n",
    "\n",
    "Year  = df ['Year'].tolist()\n",
    "State =df['#insertstate'].tolist()\n",
    "plt.plot(Year, State,   label = '#insertstate', marker='o', linewidth=3)\n",
    "plt.xlabel('Year')\n",
    "plt.ylabel('Rate')\n",
    "plt.legend(loc='upper left')\n",
    "plt.xticks(Year)\n",
    "plt.yticks([5,10,15,20,25,30,35])\n",
    "plt.title('Title')\n",
    "plt.show()"
   ]
  }
 ],
 "metadata": {
  "language_info": {
   "name": "python"
  },
  "orig_nbformat": 4
 },
 "nbformat": 4,
 "nbformat_minor": 2
}
